{
 "cells": [
  {
   "cell_type": "code",
   "execution_count": 1,
   "metadata": {},
   "outputs": [],
   "source": [
    "import tensorflow as tf\n",
    "from tensorflow.examples.tutorials.mnist import input_data"
   ]
  },
  {
   "cell_type": "code",
   "execution_count": 3,
   "metadata": {
    "scrolled": true
   },
   "outputs": [
    {
     "name": "stdout",
     "output_type": "stream",
     "text": [
      "Extracting MNIST_DATA/train-images-idx3-ubyte.gz\n",
      "Extracting MNIST_DATA/train-labels-idx1-ubyte.gz\n",
      "Extracting MNIST_DATA/t10k-images-idx3-ubyte.gz\n",
      "Extracting MNIST_DATA/t10k-labels-idx1-ubyte.gz\n"
     ]
    }
   ],
   "source": [
    "# 载入数据\n",
    "mnist = input_data.read_data_sets('MNIST_DATA',one_hot=True)"
   ]
  },
  {
   "cell_type": "code",
   "execution_count": 4,
   "metadata": {},
   "outputs": [],
   "source": [
    "def variable_summaries(var):\n",
    "    with tf.name_scope('summaries'):\n",
    "        \n",
    "        mean = tf.reduce_mean(var)\n",
    "        tf.summary.scalar('mean', mean)# 均值\n",
    "        \n",
    "        stddev = tf.sqrt(tf.reduce_mean(tf.square(var-mean)))   \n",
    "        tf.summary.scalar('stddev', stddev)# 标准差      \n",
    "\n",
    "        tf.summary.scalar('max', tf.reduce_max(var))#最大值\n",
    "        tf.summary.scalar('min', tf.reduce_min(var))#最小值\n",
    "        tf.summary.histogram('histogram', var)#直方图\n",
    "\n",
    "#             with tf.name_scope('stddev'):\n",
    "#         stddev = tf.sqrt(tf.reduce_mean(tf.square(var-mean)))"
   ]
  },
  {
   "cell_type": "markdown",
   "metadata": {},
   "source": [
    "#### 利用tensorboard对w,b,loss,accuracy进行统计"
   ]
  },
  {
   "cell_type": "code",
   "execution_count": 5,
   "metadata": {},
   "outputs": [
    {
     "name": "stdout",
     "output_type": "stream",
     "text": [
      "WARNING:tensorflow:From /home/z/.conda/envs/tf1/lib/python3.5/site-packages/tensorflow/python/framework/op_def_library.py:263: colocate_with (from tensorflow.python.framework.ops) is deprecated and will be removed in a future version.\n",
      "Instructions for updating:\n",
      "Colocations handled automatically by placer.\n",
      "WARNING:tensorflow:From <ipython-input-5-c58ce7d15036>:38: arg_max (from tensorflow.python.ops.gen_math_ops) is deprecated and will be removed in a future version.\n",
      "Instructions for updating:\n",
      "Use `tf.math.argmax` instead\n",
      "ilter：0，Test Accuracy:0.8305\n",
      "ilter：1，Test Accuracy:0.8705\n",
      "ilter：2，Test Accuracy:0.8808\n",
      "ilter：3，Test Accuracy:0.8874\n",
      "ilter：4，Test Accuracy:0.8943\n",
      "ilter：5，Test Accuracy:0.8972\n",
      "ilter：6，Test Accuracy:0.9001\n",
      "ilter：7，Test Accuracy:0.9017\n",
      "ilter：8，Test Accuracy:0.9028\n",
      "ilter：9，Test Accuracy:0.9049\n",
      "ilter：10，Test Accuracy:0.9062\n",
      "ilter：11，Test Accuracy:0.9073\n",
      "ilter：12，Test Accuracy:0.9078\n",
      "ilter：13，Test Accuracy:0.9092\n",
      "ilter：14，Test Accuracy:0.9098\n",
      "ilter：15，Test Accuracy:0.9103\n",
      "ilter：16，Test Accuracy:0.9114\n",
      "ilter：17，Test Accuracy:0.9128\n",
      "ilter：18，Test Accuracy:0.9134\n",
      "ilter：19，Test Accuracy:0.9131\n",
      "ilter：20，Test Accuracy:0.9139\n",
      "ilter：21，Test Accuracy:0.9142\n",
      "ilter：22，Test Accuracy:0.9153\n",
      "ilter：23，Test Accuracy:0.9158\n",
      "ilter：24，Test Accuracy:0.9156\n",
      "ilter：25，Test Accuracy:0.9162\n",
      "ilter：26，Test Accuracy:0.9171\n",
      "ilter：27，Test Accuracy:0.9175\n",
      "ilter：28，Test Accuracy:0.9178\n",
      "ilter：29，Test Accuracy:0.9177\n",
      "ilter：30，Test Accuracy:0.9181\n",
      "ilter：31，Test Accuracy:0.9183\n",
      "ilter：32，Test Accuracy:0.918\n",
      "ilter：33，Test Accuracy:0.9183\n",
      "ilter：34，Test Accuracy:0.9179\n",
      "ilter：35，Test Accuracy:0.9185\n",
      "ilter：36，Test Accuracy:0.9192\n",
      "ilter：37，Test Accuracy:0.9197\n",
      "ilter：38，Test Accuracy:0.9193\n",
      "ilter：39，Test Accuracy:0.9194\n",
      "ilter：40，Test Accuracy:0.9202\n",
      "ilter：41，Test Accuracy:0.9196\n",
      "ilter：42，Test Accuracy:0.9199\n",
      "ilter：43，Test Accuracy:0.9198\n",
      "ilter：44，Test Accuracy:0.9207\n",
      "ilter：45，Test Accuracy:0.9208\n",
      "ilter：46，Test Accuracy:0.9207\n",
      "ilter：47，Test Accuracy:0.9212\n",
      "ilter：48，Test Accuracy:0.921\n",
      "ilter：49，Test Accuracy:0.9211\n",
      "ilter：50，Test Accuracy:0.9211\n"
     ]
    }
   ],
   "source": [
    "tf.reset_default_graph()\n",
    "\n",
    "batch_size = 100\n",
    "n_batch = mnist.train.num_examples // batch_size\n",
    "\n",
    "# 定义命名空间\n",
    "with tf.name_scope('input'):\n",
    "    x = tf.placeholder(tf.float32,[None, 784],name='x-input')\n",
    "    y = tf.placeholder(tf.float32,[None, 10], name='y-input')\n",
    "\n",
    "with tf.name_scope('layer'):\n",
    "    with tf.name_scope('w'):\n",
    "        W = tf.Variable(tf.zeros([784,10]))\n",
    "        # 对W进行数据统计\n",
    "        variable_summaries(W)\n",
    "        \n",
    "    with tf.name_scope('b'):\n",
    "        b = tf.Variable(tf.zeros([10]))\n",
    "        # 对b进行数据统计\n",
    "        variable_summaries(b)\n",
    "        \n",
    "    with tf.name_scope('wx_plus_b'):\n",
    "        wx_plus_b = tf.matmul(x,W) + b\n",
    "        \n",
    "    with tf.name_scope('softmax'):\n",
    "        prediction = tf.nn.softmax(wx_plus_b)\n",
    "        \n",
    "with tf.name_scope('loss'):\n",
    "    loss = tf.reduce_mean(tf.square(y - prediction))\n",
    "    #对loss进行数据统计\n",
    "    tf.summary.scalar('loss',loss)\n",
    "    \n",
    "with tf.name_scope('train'):\n",
    "    train_step = tf.train.GradientDescentOptimizer(0.2).minimize(loss)\n",
    "\n",
    "with tf.name_scope('accuracy'):\n",
    "    with tf.name_scope('correct_prediction'):\n",
    "        correct_prediction = tf.equal(tf.argmax(y,1), tf.arg_max(prediction,1))\n",
    "    with tf.name_scope('accuracy'):\n",
    "        accuracy = tf.reduce_mean(tf.cast(correct_prediction, tf.float32))\n",
    "        # 对accuracy进行统计\n",
    "        tf.summary.scalar('accuracy', accuracy)\n",
    "\n",
    "        \n",
    "init = tf.global_variables_initializer()\n",
    "\n",
    "# 合并所有的summary\n",
    "merged = tf.summary.merge_all()\n",
    "\n",
    "with tf.Session() as sess:\n",
    "    sess.run(init) \n",
    "    \n",
    "    # 保存graph文件\n",
    "    writer = tf.summary.FileWriter('logs/', sess.graph)\n",
    "    \n",
    "    for epoch in range(51):\n",
    "        for batch in range(n_batch):\n",
    "            batch_xs, batch_ys = mnist.train.next_batch(batch_size)\n",
    "            # run merged\n",
    "            summary,_ = sess.run([merged,train_step],feed_dict={x:batch_xs, y:batch_ys})\n",
    "        \n",
    "        # 将统计结果summary写入到文件中\n",
    "        writer.add_summary(summary, epoch)\n",
    "        accur = sess.run(accuracy, feed_dict={x:mnist.test.images, y:mnist.test.labels})\n",
    "        print('ilter：' + str(epoch) + '，Test Accuracy:' + str(accur))"
   ]
  },
  {
   "cell_type": "code",
   "execution_count": null,
   "metadata": {},
   "outputs": [],
   "source": []
  }
 ],
 "metadata": {
  "kernelspec": {
   "display_name": "tf1",
   "language": "python",
   "name": "tf1"
  },
  "language_info": {
   "codemirror_mode": {
    "name": "ipython",
    "version": 3
   },
   "file_extension": ".py",
   "mimetype": "text/x-python",
   "name": "python",
   "nbconvert_exporter": "python",
   "pygments_lexer": "ipython3",
   "version": "3.5.5"
  }
 },
 "nbformat": 4,
 "nbformat_minor": 2
}
