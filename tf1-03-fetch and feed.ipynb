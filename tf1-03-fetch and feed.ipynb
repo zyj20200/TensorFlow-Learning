{
 "cells": [
  {
   "cell_type": "code",
   "execution_count": 1,
   "metadata": {},
   "outputs": [],
   "source": [
    "import tensorflow as tf"
   ]
  },
  {
   "cell_type": "markdown",
   "metadata": {},
   "source": [
    "fetch:在一个会话中执行多个operation"
   ]
  },
  {
   "cell_type": "code",
   "execution_count": 3,
   "metadata": {},
   "outputs": [
    {
     "name": "stdout",
     "output_type": "stream",
     "text": [
      "[array([48.], dtype=float32), array([8.], dtype=float32)]\n"
     ]
    }
   ],
   "source": [
    "# fetch\n",
    "d1 = tf.constant([3.0])\n",
    "d2 = tf.constant([5.0])\n",
    "d3 = tf.constant([6.0])\n",
    "\n",
    "add = tf.add(d1,d2)\n",
    "mul = tf.multiply(d3,add)\n",
    "\n",
    "with tf.Session() as sess:\n",
    "    res = sess.run([mul, add])\n",
    "    print(res)"
   ]
  },
  {
   "cell_type": "markdown",
   "metadata": {},
   "source": [
    "feed，运行的时候，给placeholder赋值"
   ]
  },
  {
   "cell_type": "code",
   "execution_count": 7,
   "metadata": {},
   "outputs": [
    {
     "name": "stdout",
     "output_type": "stream",
     "text": [
      "[5.]\n"
     ]
    }
   ],
   "source": [
    "# feed\n",
    "a1 = tf.placeholder(tf.float32)\n",
    "a2 = tf.placeholder(tf.float32)\n",
    "\n",
    "add = tf.add(a1,a2)\n",
    "\n",
    "with tf.Session() as sess:\n",
    "    # feed数据以字典的形式传入\n",
    "    print(sess.run(add,feed_dict={a1:[2.0], a2:[3.0]}))"
   ]
  },
  {
   "cell_type": "code",
   "execution_count": null,
   "metadata": {},
   "outputs": [],
   "source": []
  }
 ],
 "metadata": {
  "kernelspec": {
   "display_name": "tf1",
   "language": "python",
   "name": "tf1"
  },
  "language_info": {
   "codemirror_mode": {
    "name": "ipython",
    "version": 3
   },
   "file_extension": ".py",
   "mimetype": "text/x-python",
   "name": "python",
   "nbconvert_exporter": "python",
   "pygments_lexer": "ipython3",
   "version": "3.5.5"
  },
  "toc": {
   "base_numbering": 1,
   "nav_menu": {},
   "number_sections": true,
   "sideBar": true,
   "skip_h1_title": false,
   "title_cell": "Table of Contents",
   "title_sidebar": "Contents",
   "toc_cell": false,
   "toc_position": {},
   "toc_section_display": true,
   "toc_window_display": false
  }
 },
 "nbformat": 4,
 "nbformat_minor": 2
}
