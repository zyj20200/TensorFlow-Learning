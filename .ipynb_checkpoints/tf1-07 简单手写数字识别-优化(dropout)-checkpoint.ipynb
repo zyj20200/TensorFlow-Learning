{
 "cells": [
  {
   "cell_type": "code",
   "execution_count": 1,
   "metadata": {},
   "outputs": [],
   "source": [
    "import tensorflow as tf\n",
    "from tensorflow.examples.tutorials.mnist import input_data"
   ]
  },
  {
   "cell_type": "code",
   "execution_count": 2,
   "metadata": {
    "scrolled": true
   },
   "outputs": [
    {
     "name": "stdout",
     "output_type": "stream",
     "text": [
      "WARNING:tensorflow:From <ipython-input-2-6f2d4b5499b3>:2: read_data_sets (from tensorflow.contrib.learn.python.learn.datasets.mnist) is deprecated and will be removed in a future version.\n",
      "Instructions for updating:\n",
      "Please use alternatives such as official/mnist/dataset.py from tensorflow/models.\n",
      "WARNING:tensorflow:From /home/z/.conda/envs/tf1/lib/python3.5/site-packages/tensorflow/contrib/learn/python/learn/datasets/mnist.py:260: maybe_download (from tensorflow.contrib.learn.python.learn.datasets.base) is deprecated and will be removed in a future version.\n",
      "Instructions for updating:\n",
      "Please write your own downloading logic.\n",
      "WARNING:tensorflow:From /home/z/.conda/envs/tf1/lib/python3.5/site-packages/tensorflow/contrib/learn/python/learn/datasets/mnist.py:262: extract_images (from tensorflow.contrib.learn.python.learn.datasets.mnist) is deprecated and will be removed in a future version.\n",
      "Instructions for updating:\n",
      "Please use tf.data to implement this functionality.\n",
      "Extracting MNIST_DATA/train-images-idx3-ubyte.gz\n",
      "WARNING:tensorflow:From /home/z/.conda/envs/tf1/lib/python3.5/site-packages/tensorflow/contrib/learn/python/learn/datasets/mnist.py:267: extract_labels (from tensorflow.contrib.learn.python.learn.datasets.mnist) is deprecated and will be removed in a future version.\n",
      "Instructions for updating:\n",
      "Please use tf.data to implement this functionality.\n",
      "Extracting MNIST_DATA/train-labels-idx1-ubyte.gz\n",
      "WARNING:tensorflow:From /home/z/.conda/envs/tf1/lib/python3.5/site-packages/tensorflow/contrib/learn/python/learn/datasets/mnist.py:110: dense_to_one_hot (from tensorflow.contrib.learn.python.learn.datasets.mnist) is deprecated and will be removed in a future version.\n",
      "Instructions for updating:\n",
      "Please use tf.one_hot on tensors.\n",
      "Extracting MNIST_DATA/t10k-images-idx3-ubyte.gz\n",
      "Extracting MNIST_DATA/t10k-labels-idx1-ubyte.gz\n",
      "WARNING:tensorflow:From /home/z/.conda/envs/tf1/lib/python3.5/site-packages/tensorflow/contrib/learn/python/learn/datasets/mnist.py:290: DataSet.__init__ (from tensorflow.contrib.learn.python.learn.datasets.mnist) is deprecated and will be removed in a future version.\n",
      "Instructions for updating:\n",
      "Please use alternatives such as official/mnist/dataset.py from tensorflow/models.\n"
     ]
    }
   ],
   "source": [
    "# 载入数据\n",
    "mnist = input_data.read_data_sets('MNIST_DATA',one_hot=True)"
   ]
  },
  {
   "cell_type": "code",
   "execution_count": 3,
   "metadata": {
    "scrolled": true
   },
   "outputs": [
    {
     "name": "stdout",
     "output_type": "stream",
     "text": [
      "WARNING:tensorflow:From /home/z/.conda/envs/tf1/lib/python3.5/site-packages/tensorflow/python/framework/op_def_library.py:263: colocate_with (from tensorflow.python.framework.ops) is deprecated and will be removed in a future version.\n",
      "Instructions for updating:\n",
      "Colocations handled automatically by placer.\n",
      "WARNING:tensorflow:From <ipython-input-3-7da3ec3b6a9f>:11: calling dropout (from tensorflow.python.ops.nn_ops) with keep_prob is deprecated and will be removed in a future version.\n",
      "Instructions for updating:\n",
      "Please use `rate` instead of `keep_prob`. Rate should be set to `rate = 1 - keep_prob`.\n",
      "WARNING:tensorflow:From <ipython-input-3-7da3ec3b6a9f>:25: softmax_cross_entropy_with_logits (from tensorflow.python.ops.nn_ops) is deprecated and will be removed in a future version.\n",
      "Instructions for updating:\n",
      "\n",
      "Future major versions of TensorFlow will allow gradients to flow\n",
      "into the labels input on backprop by default.\n",
      "\n",
      "See `tf.nn.softmax_cross_entropy_with_logits_v2`.\n",
      "\n",
      "WARNING:tensorflow:From <ipython-input-3-7da3ec3b6a9f>:30: arg_max (from tensorflow.python.ops.gen_math_ops) is deprecated and will be removed in a future version.\n",
      "Instructions for updating:\n",
      "Use `tf.math.argmax` instead\n",
      "ilter：0，Test Accuracy:0.8879\n",
      "ilter：1，Test Accuracy:0.9093\n",
      "ilter：2，Test Accuracy:0.9184\n",
      "ilter：3，Test Accuracy:0.9276\n",
      "ilter：4，Test Accuracy:0.9343\n",
      "ilter：5，Test Accuracy:0.9389\n",
      "ilter：6，Test Accuracy:0.9402\n",
      "ilter：7，Test Accuracy:0.9444\n",
      "ilter：8，Test Accuracy:0.9462\n",
      "ilter：9，Test Accuracy:0.9498\n",
      "ilter：10，Test Accuracy:0.9516\n",
      "ilter：11，Test Accuracy:0.9522\n",
      "ilter：12，Test Accuracy:0.954\n",
      "ilter：13，Test Accuracy:0.9557\n",
      "ilter：14，Test Accuracy:0.957\n",
      "ilter：15，Test Accuracy:0.9571\n",
      "ilter：16，Test Accuracy:0.958\n",
      "ilter：17，Test Accuracy:0.9596\n",
      "ilter：18，Test Accuracy:0.9605\n",
      "ilter：19，Test Accuracy:0.9619\n",
      "ilter：20，Test Accuracy:0.962\n"
     ]
    }
   ],
   "source": [
    "batch_size = 100\n",
    "n_batch = mnist.train.num_examples // batch_size\n",
    "x = tf.placeholder(tf.float32, [None, 784])\n",
    "y = tf.placeholder(tf.float32, [None, 10])\n",
    "keep_prob = tf.placeholder(tf.float32)\n",
    "\n",
    "# 输入层\n",
    "W1 = tf.Variable(tf.truncated_normal([784, 100],stddev=0.1))\n",
    "b1 = tf.Variable(tf.zeros([100]))\n",
    "L1 = tf.nn.relu(tf.matmul(x, W1) + b1)\n",
    "L1_drop = tf.nn.dropout(L1, keep_prob)\n",
    "\n",
    "# 隐藏层 100个神经元\n",
    "W2 = tf.Variable(tf.truncated_normal([100, 100],stddev=0.1))\n",
    "b2 = tf.Variable(tf.zeros([100]))\n",
    "L2 = tf.nn.relu(tf.matmul(L1, W2) + b2)\n",
    "L2_drop = tf.nn.dropout(L2, keep_prob)\n",
    "\n",
    "# 输出层\n",
    "W3 = tf.Variable(tf.truncated_normal([100, 10],stddev=0.1))\n",
    "b3 = tf.Variable(tf.zeros([10]))\n",
    "prediction = tf.nn.sigmoid(tf.matmul(L2_drop, W3) + b3)\n",
    "\n",
    "# 交叉熵计算损失，梯度下降优化\n",
    "loss = tf.reduce_mean(tf.nn.softmax_cross_entropy_with_logits(labels=y, logits=prediction))\n",
    "train_step = tf.train.GradientDescentOptimizer(0.2).minimize(loss)\n",
    "\n",
    "# \n",
    "prediction_2 = tf.nn.softmax(prediction)\n",
    "correct_prediction = tf.equal(tf.argmax(y, 1), tf.arg_max(prediction_2, 1))\n",
    "\n",
    "# 准确率计算\n",
    "accuracy = tf.reduce_mean(tf.cast(correct_prediction, tf.float32))\n",
    "\n",
    "init = tf.global_variables_initializer()\n",
    "with tf.Session() as sess:\n",
    "    sess.run(init)\n",
    "    for epoch in range(21):\n",
    "        for batch in range(n_batch):\n",
    "            batch_xs, batch_ys = mnist.train.next_batch(batch_size)\n",
    "            sess.run(train_step, feed_dict={x: batch_xs, y: batch_ys, keep_prob:0.8})\n",
    "        accur = sess.run(accuracy, feed_dict={x: mnist.test.images, y: mnist.test.labels, keep_prob:1.0})\n",
    "        print('ilter：' + str(epoch) + '，Test Accuracy:' + str(accur))"
   ]
  },
  {
   "cell_type": "code",
   "execution_count": null,
   "metadata": {},
   "outputs": [],
   "source": [
    "batch_size = 100\n",
    "n_batch = mnist.train.num_examples // batch_size\n",
    "x = tf.placeholder(tf.float32, [None, 784])\n",
    "y = tf.placeholder(tf.float32, [None, 10])\n",
    "keep_prob = tf.placeholder(tf.float32)\n",
    "\n",
    "# 输入层\n",
    "W1 = tf.Variable(tf.truncated_normal([784, 100],stddev=0.1))\n",
    "b1 = tf.Variable(tf.zeros([100]))\n",
    "L1 = tf.nn.relu(tf.matmul(x, W1) + b1)\n",
    "L1_drop = tf.nn.dropout(L1, keep_prob)\n",
    "\n",
    "# 隐藏层 100个神经元\n",
    "W2 = tf.Variable(tf.truncated_normal([100, 100],stddev=0.1))\n",
    "b2 = tf.Variable(tf.zeros([100]))\n",
    "L2 = tf.nn.relu(tf.matmul(L1, W2) + b2)\n",
    "L2_drop = tf.nn.dropout(L2, keep_prob)\n",
    "\n",
    "# 输出层\n",
    "W3 = tf.Variable(tf.truncated_normal([100, 10],stddev=0.1))\n",
    "b3 = tf.Variable(tf.zeros([10]))\n",
    "prediction = tf.nn.sigmoid(tf.matmul(L2_drop, W3) + b3)\n",
    "\n",
    "# 交叉熵计算损失，梯度下降优化\n",
    "loss = tf.reduce_mean(tf.nn.softmax_cross_entropy_with_logits(labels=y, logits=prediction))\n",
    "train_step = tf.train.GradientDescentOptimizer(0.2).minimize(loss)\n",
    "\n",
    "# \n",
    "prediction_2 = tf.nn.softmax(prediction)\n",
    "correct_prediction = tf.equal(tf.argmax(y, 1), tf.arg_max(prediction_2, 1))\n",
    "\n",
    "# 准确率计算\n",
    "accuracy = tf.reduce_mean(tf.cast(correct_prediction, tf.float32))\n",
    "\n",
    "init = tf.global_variables_initializer()\n",
    "with tf.Session() as sess:\n",
    "    sess.run(init)\n",
    "    for epoch in range(21):\n",
    "        for batch in range(n_batch):\n",
    "            batch_xs, batch_ys = mnist.train.next_batch(batch_size)\n",
    "            sess.run(train_step, feed_dict={x: batch_xs, y: batch_ys, keep_prob:0.8})\n",
    "        accur = sess.run(accuracy, feed_dict={x: mnist.test.images, y: mnist.test.labels, keep_prob:1.0})\n",
    "        print('ilter：' + str(epoch) + '，Test Accuracy:' + str(accur))"
   ]
  }
 ],
 "metadata": {
  "kernelspec": {
   "display_name": "tf1",
   "language": "python",
   "name": "tf1"
  },
  "language_info": {
   "codemirror_mode": {
    "name": "ipython",
    "version": 3
   },
   "file_extension": ".py",
   "mimetype": "text/x-python",
   "name": "python",
   "nbconvert_exporter": "python",
   "pygments_lexer": "ipython3",
   "version": "3.5.5"
  },
  "toc": {
   "base_numbering": 1,
   "nav_menu": {},
   "number_sections": true,
   "sideBar": true,
   "skip_h1_title": false,
   "title_cell": "Table of Contents",
   "title_sidebar": "Contents",
   "toc_cell": false,
   "toc_position": {},
   "toc_section_display": true,
   "toc_window_display": false
  }
 },
 "nbformat": 4,
 "nbformat_minor": 2
}
