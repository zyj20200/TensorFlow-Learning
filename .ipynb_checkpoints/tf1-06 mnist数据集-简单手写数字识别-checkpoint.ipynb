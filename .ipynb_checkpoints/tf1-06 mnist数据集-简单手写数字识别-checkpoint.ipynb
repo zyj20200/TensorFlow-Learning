{
 "cells": [
  {
   "cell_type": "code",
   "execution_count": 1,
   "metadata": {},
   "outputs": [],
   "source": [
    "import tensorflow as tf\n",
    "from tensorflow.examples.tutorials.mnist import input_data"
   ]
  },
  {
   "cell_type": "code",
   "execution_count": 4,
   "metadata": {},
   "outputs": [
    {
     "name": "stdout",
     "output_type": "stream",
     "text": [
      "Extracting MNIST_DATA/train-images-idx3-ubyte.gz\n",
      "Extracting MNIST_DATA/train-labels-idx1-ubyte.gz\n",
      "Successfully downloaded t10k-images-idx3-ubyte.gz 1648877 bytes.\n",
      "Extracting MNIST_DATA/t10k-images-idx3-ubyte.gz\n",
      "Successfully downloaded t10k-labels-idx1-ubyte.gz 4542 bytes.\n",
      "Extracting MNIST_DATA/t10k-labels-idx1-ubyte.gz\n",
      "WARNING:tensorflow:From /home/z/.conda/envs/tf1/lib/python3.5/site-packages/tensorflow/contrib/learn/python/learn/datasets/mnist.py:290: DataSet.__init__ (from tensorflow.contrib.learn.python.learn.datasets.mnist) is deprecated and will be removed in a future version.\n",
      "Instructions for updating:\n",
      "Please use alternatives such as official/mnist/dataset.py from tensorflow/models.\n"
     ]
    }
   ],
   "source": [
    "# 载入数据\n",
    "mnist = input_data.read_data_sets('MNIST_DATA',one_hot=True)"
   ]
  },
  {
   "cell_type": "markdown",
   "metadata": {},
   "source": [
    "## 无中间层"
   ]
  },
  {
   "cell_type": "code",
   "execution_count": 29,
   "metadata": {
    "scrolled": true
   },
   "outputs": [
    {
     "name": "stdout",
     "output_type": "stream",
     "text": [
      "ilter：0Test Accuracy:0.8334\n",
      "ilter：1Test Accuracy:0.8713\n",
      "ilter：2Test Accuracy:0.882\n",
      "ilter：3Test Accuracy:0.8886\n",
      "ilter：4Test Accuracy:0.8945\n",
      "ilter：5Test Accuracy:0.897\n",
      "ilter：6Test Accuracy:0.8993\n",
      "ilter：7Test Accuracy:0.9014\n",
      "ilter：8Test Accuracy:0.904\n",
      "ilter：9Test Accuracy:0.9052\n",
      "ilter：10Test Accuracy:0.9061\n",
      "ilter：11Test Accuracy:0.9077\n",
      "ilter：12Test Accuracy:0.9085\n",
      "ilter：13Test Accuracy:0.9096\n",
      "ilter：14Test Accuracy:0.9105\n",
      "ilter：15Test Accuracy:0.9108\n",
      "ilter：16Test Accuracy:0.9114\n",
      "ilter：17Test Accuracy:0.9126\n",
      "ilter：18Test Accuracy:0.913\n",
      "ilter：19Test Accuracy:0.9135\n",
      "ilter：20Test Accuracy:0.9139\n"
     ]
    }
   ],
   "source": [
    "# 每个计算批次的大小\n",
    "batch_size = 100\n",
    "# 一共有多少个批次\n",
    "n_batch = mnist.train.num_examples // batch_size\n",
    "\n",
    "x = tf.placeholder(tf.float32,[None, 784])\n",
    "y = tf.placeholder(tf.float32,[None, 10])\n",
    "\n",
    "# 创建一个神经网络\n",
    "W = tf.Variable(tf.zeros([784,10]))\n",
    "b = tf.Variable(tf.zeros([10]))\n",
    "prediction = tf.nn.softmax(tf.matmul(x,W) + b)\n",
    "\n",
    "# 二次代价函数\n",
    "loss = tf.reduce_mean(tf.square(y - prediction))\n",
    "# 梯度下降\n",
    "train_step = tf.train.GradientDescentOptimizer(0.2).minimize(loss)\n",
    "\n",
    "# 初始化变量\n",
    "init = tf.global_variables_initializer()\n",
    "\n",
    "# 结果存放在一个列表中，每个值都是布尔值\n",
    "# tf.arg_max(prediction,1) 按列，1求prediction中的最大值\n",
    "# tf.equal(a,b) 比较a，b是否相等，若相等，返回True，不等返回Fales\n",
    "correct_prediction = tf.equal(tf.argmax(y,1), tf.arg_max(prediction,1))\n",
    "\n",
    "# 准确率\n",
    "# tf.cast(correct_prediction, tf.float32) 将布尔列表中的True转换成1，False转化成0\n",
    "# 然后再计算均值\n",
    "accuracy = tf.reduce_mean(tf.cast(correct_prediction, tf.float32))\n",
    "\n",
    "with tf.Session() as sess:\n",
    "    sess.run(init) \n",
    "    for epoch in range(21):\n",
    "        for batch in range(n_batch):\n",
    "            batch_xs, batch_ys = mnist.train.next_batch(batch_size)\n",
    "            sess.run(train_step,feed_dict={x:batch_xs, y:batch_ys})\n",
    "        accur = sess.run(accuracy, feed_dict={x:mnist.test.images, y:mnist.test.labels})\n",
    "        print('ilter：' + str(epoch) + '，Test Accuracy:' + str(accur))"
   ]
  },
  {
   "cell_type": "code",
   "execution_count": null,
   "metadata": {},
   "outputs": [],
   "source": []
  }
 ],
 "metadata": {
  "kernelspec": {
   "display_name": "tf1",
   "language": "python",
   "name": "tf1"
  },
  "language_info": {
   "codemirror_mode": {
    "name": "ipython",
    "version": 3
   },
   "file_extension": ".py",
   "mimetype": "text/x-python",
   "name": "python",
   "nbconvert_exporter": "python",
   "pygments_lexer": "ipython3",
   "version": "3.5.5"
  },
  "toc": {
   "base_numbering": 1,
   "nav_menu": {},
   "number_sections": true,
   "sideBar": true,
   "skip_h1_title": false,
   "title_cell": "Table of Contents",
   "title_sidebar": "Contents",
   "toc_cell": false,
   "toc_position": {},
   "toc_section_display": true,
   "toc_window_display": false
  }
 },
 "nbformat": 4,
 "nbformat_minor": 2
}
