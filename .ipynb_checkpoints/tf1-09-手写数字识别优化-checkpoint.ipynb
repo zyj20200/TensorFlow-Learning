{
 "cells": [
  {
   "cell_type": "code",
   "execution_count": 1,
   "metadata": {},
   "outputs": [],
   "source": [
    "import tensorflow as tf\n",
    "from tensorflow.examples.tutorials.mnist import input_data"
   ]
  },
  {
   "cell_type": "code",
   "execution_count": 2,
   "metadata": {
    "scrolled": true
   },
   "outputs": [
    {
     "name": "stdout",
     "output_type": "stream",
     "text": [
      "WARNING:tensorflow:From <ipython-input-2-6f2d4b5499b3>:2: read_data_sets (from tensorflow.contrib.learn.python.learn.datasets.mnist) is deprecated and will be removed in a future version.\n",
      "Instructions for updating:\n",
      "Please use alternatives such as official/mnist/dataset.py from tensorflow/models.\n",
      "WARNING:tensorflow:From /home/z/.conda/envs/tf1/lib/python3.5/site-packages/tensorflow/contrib/learn/python/learn/datasets/mnist.py:260: maybe_download (from tensorflow.contrib.learn.python.learn.datasets.base) is deprecated and will be removed in a future version.\n",
      "Instructions for updating:\n",
      "Please write your own downloading logic.\n",
      "WARNING:tensorflow:From /home/z/.conda/envs/tf1/lib/python3.5/site-packages/tensorflow/contrib/learn/python/learn/datasets/mnist.py:262: extract_images (from tensorflow.contrib.learn.python.learn.datasets.mnist) is deprecated and will be removed in a future version.\n",
      "Instructions for updating:\n",
      "Please use tf.data to implement this functionality.\n",
      "Extracting MNIST_DATA/train-images-idx3-ubyte.gz\n",
      "WARNING:tensorflow:From /home/z/.conda/envs/tf1/lib/python3.5/site-packages/tensorflow/contrib/learn/python/learn/datasets/mnist.py:267: extract_labels (from tensorflow.contrib.learn.python.learn.datasets.mnist) is deprecated and will be removed in a future version.\n",
      "Instructions for updating:\n",
      "Please use tf.data to implement this functionality.\n",
      "Extracting MNIST_DATA/train-labels-idx1-ubyte.gz\n",
      "WARNING:tensorflow:From /home/z/.conda/envs/tf1/lib/python3.5/site-packages/tensorflow/contrib/learn/python/learn/datasets/mnist.py:110: dense_to_one_hot (from tensorflow.contrib.learn.python.learn.datasets.mnist) is deprecated and will be removed in a future version.\n",
      "Instructions for updating:\n",
      "Please use tf.one_hot on tensors.\n",
      "Extracting MNIST_DATA/t10k-images-idx3-ubyte.gz\n",
      "Extracting MNIST_DATA/t10k-labels-idx1-ubyte.gz\n",
      "WARNING:tensorflow:From /home/z/.conda/envs/tf1/lib/python3.5/site-packages/tensorflow/contrib/learn/python/learn/datasets/mnist.py:290: DataSet.__init__ (from tensorflow.contrib.learn.python.learn.datasets.mnist) is deprecated and will be removed in a future version.\n",
      "Instructions for updating:\n",
      "Please use alternatives such as official/mnist/dataset.py from tensorflow/models.\n"
     ]
    }
   ],
   "source": [
    "# 载入数据\n",
    "mnist = input_data.read_data_sets('MNIST_DATA',one_hot=True)"
   ]
  },
  {
   "cell_type": "code",
   "execution_count": 6,
   "metadata": {},
   "outputs": [
    {
     "name": "stdout",
     "output_type": "stream",
     "text": [
      "ilter：0，Test Accuracy:0.9305，learning rate：0.001\n",
      "ilter：1，Test Accuracy:0.9473，learning rate：0.00095\n",
      "ilter：2，Test Accuracy:0.9537，learning rate：0.0009025\n",
      "ilter：3，Test Accuracy:0.9587，learning rate：0.000857375\n",
      "ilter：4，Test Accuracy:0.959，learning rate：0.00081450626\n",
      "ilter：5，Test Accuracy:0.9631，learning rate：0.0007737809\n",
      "ilter：6，Test Accuracy:0.9617，learning rate：0.0007350919\n",
      "ilter：7，Test Accuracy:0.9655，learning rate：0.0006983373\n",
      "ilter：8，Test Accuracy:0.9689，learning rate：0.0006634204\n",
      "ilter：9，Test Accuracy:0.97，learning rate：0.0006302494\n",
      "ilter：10，Test Accuracy:0.9691，learning rate：0.0005987369\n",
      "ilter：11，Test Accuracy:0.9699，learning rate：0.0005688001\n",
      "ilter：12，Test Accuracy:0.9714，learning rate：0.0005403601\n",
      "ilter：13，Test Accuracy:0.9736，learning rate：0.0005133421\n",
      "ilter：14，Test Accuracy:0.9716，learning rate：0.000487675\n",
      "ilter：15，Test Accuracy:0.9699，learning rate：0.00046329122\n",
      "ilter：16，Test Accuracy:0.9731，learning rate：0.00044012666\n",
      "ilter：17，Test Accuracy:0.9746，learning rate：0.00041812033\n",
      "ilter：18，Test Accuracy:0.9755，learning rate：0.00039721432\n",
      "ilter：19，Test Accuracy:0.9738，learning rate：0.0003773536\n",
      "ilter：20，Test Accuracy:0.9744，learning rate：0.00035848594\n"
     ]
    }
   ],
   "source": [
    "batch_size = 100\n",
    "n_batch = mnist.train.num_examples // batch_size\n",
    "x = tf.placeholder(tf.float32, [None, 784])\n",
    "y = tf.placeholder(tf.float32, [None, 10])\n",
    "keep_prob = tf.placeholder(tf.float32)\n",
    "lr = tf.Variable(0.001, tf.float32)\n",
    "\n",
    "# 隐藏层\n",
    "W1 = tf.Variable(tf.truncated_normal([784, 500], stddev=0.1))\n",
    "b1 = tf.Variable(tf.zeros([500])+0.1)\n",
    "L1 = tf.nn.tanh(tf.matmul(x, W1) + b1)\n",
    "L1_drop = tf.nn.dropout(L1, keep_prob)\n",
    "\n",
    "# 隐藏层 500个神经元\n",
    "W2 = tf.Variable(tf.truncated_normal([500, 100], stddev=0.1))\n",
    "b2 = tf.Variable(tf.zeros([100])+0.1)\n",
    "L2 = tf.nn.tanh(tf.matmul(L1_drop, W2) + b2)\n",
    "L2_drop = tf.nn.dropout(L2, keep_prob)\n",
    "\n",
    "\n",
    "# 隐藏层 100个神经元\n",
    "W3 = tf.Variable(tf.truncated_normal([100, 100], stddev=0.1))\n",
    "b3 = tf.Variable(tf.zeros([100])+0.1)\n",
    "L3 = tf.nn.tanh(tf.matmul(L2_drop, W3) + b3)\n",
    "L3_drop = tf.nn.dropout(L3, keep_prob)\n",
    "\n",
    "# 输出层\n",
    "W4 = tf.Variable(tf.truncated_normal([100, 10], stddev=0.1))\n",
    "b4 = tf.Variable(tf.zeros([10])+0.1)\n",
    "prediction = tf.nn.softmax(tf.matmul(L3_drop, W4) + b4)\n",
    "\n",
    "# 交叉熵计算损失，梯度下降优化\n",
    "loss = tf.reduce_mean(tf.nn.softmax_cross_entropy_with_logits_v2(\n",
    "    labels=y, logits=prediction))\n",
    "# 优化器\n",
    "optimizer = tf.train.AdamOptimizer(lr)\n",
    "# optimizer = tf.train.AdamOptimizer(0.01)\n",
    "\n",
    "train_step = optimizer.minimize(loss)\n",
    "\n",
    "# prediction_2 = tf.nn.softmax(prediction)\n",
    "correct_prediction = tf.equal(tf.math.argmax(\n",
    "    y, 1), tf.math.argmax(prediction, 1))\n",
    "\n",
    "# 准确率计算\n",
    "accuracy = tf.reduce_mean(tf.cast(correct_prediction, tf.float32))\n",
    "\n",
    "init = tf.global_variables_initializer()\n",
    "with tf.Session() as sess:\n",
    "    sess.run(init)\n",
    "    for epoch in range(21):\n",
    "        sess.run(tf.assign(lr, 0.001*(0.95**epoch)))\n",
    "        for batch in range(n_batch):\n",
    "            batch_xs, batch_ys = mnist.train.next_batch(batch_size)\n",
    "            sess.run(train_step, feed_dict={\n",
    "                     x: batch_xs, y: batch_ys, keep_prob: 0.8})\n",
    "        accur = sess.run(accuracy, feed_dict={\n",
    "                         x: mnist.test.images, y: mnist.test.labels, keep_prob: 0.9})\n",
    "        learn_rate = sess.run(lr)\n",
    "        print('ilter：' + str(epoch) + '，Test Accuracy:' +\n",
    "              str(accur) + '，learning rate：' + str(learn_rate))"
   ]
  },
  {
   "cell_type": "code",
   "execution_count": null,
   "metadata": {},
   "outputs": [],
   "source": []
  }
 ],
 "metadata": {
  "kernelspec": {
   "display_name": "tf1",
   "language": "python",
   "name": "tf1"
  },
  "language_info": {
   "codemirror_mode": {
    "name": "ipython",
    "version": 3
   },
   "file_extension": ".py",
   "mimetype": "text/x-python",
   "name": "python",
   "nbconvert_exporter": "python",
   "pygments_lexer": "ipython3",
   "version": "3.5.5"
  }
 },
 "nbformat": 4,
 "nbformat_minor": 2
}
