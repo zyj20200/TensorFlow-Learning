{
 "cells": [
  {
   "cell_type": "code",
   "execution_count": 1,
   "metadata": {},
   "outputs": [],
   "source": [
    "import tensorflow as tf\n",
    "from tensorflow.examples.tutorials.mnist import input_data"
   ]
  },
  {
   "cell_type": "code",
   "execution_count": 2,
   "metadata": {
    "scrolled": true
   },
   "outputs": [
    {
     "name": "stdout",
     "output_type": "stream",
     "text": [
      "WARNING:tensorflow:From <ipython-input-2-6f2d4b5499b3>:2: read_data_sets (from tensorflow.contrib.learn.python.learn.datasets.mnist) is deprecated and will be removed in a future version.\n",
      "Instructions for updating:\n",
      "Please use alternatives such as official/mnist/dataset.py from tensorflow/models.\n",
      "WARNING:tensorflow:From /home/z/.conda/envs/tf1/lib/python3.5/site-packages/tensorflow/contrib/learn/python/learn/datasets/mnist.py:260: maybe_download (from tensorflow.contrib.learn.python.learn.datasets.base) is deprecated and will be removed in a future version.\n",
      "Instructions for updating:\n",
      "Please write your own downloading logic.\n",
      "WARNING:tensorflow:From /home/z/.conda/envs/tf1/lib/python3.5/site-packages/tensorflow/contrib/learn/python/learn/datasets/mnist.py:262: extract_images (from tensorflow.contrib.learn.python.learn.datasets.mnist) is deprecated and will be removed in a future version.\n",
      "Instructions for updating:\n",
      "Please use tf.data to implement this functionality.\n",
      "Extracting MNIST_DATA/train-images-idx3-ubyte.gz\n",
      "WARNING:tensorflow:From /home/z/.conda/envs/tf1/lib/python3.5/site-packages/tensorflow/contrib/learn/python/learn/datasets/mnist.py:267: extract_labels (from tensorflow.contrib.learn.python.learn.datasets.mnist) is deprecated and will be removed in a future version.\n",
      "Instructions for updating:\n",
      "Please use tf.data to implement this functionality.\n",
      "Extracting MNIST_DATA/train-labels-idx1-ubyte.gz\n",
      "WARNING:tensorflow:From /home/z/.conda/envs/tf1/lib/python3.5/site-packages/tensorflow/contrib/learn/python/learn/datasets/mnist.py:110: dense_to_one_hot (from tensorflow.contrib.learn.python.learn.datasets.mnist) is deprecated and will be removed in a future version.\n",
      "Instructions for updating:\n",
      "Please use tf.one_hot on tensors.\n",
      "Extracting MNIST_DATA/t10k-images-idx3-ubyte.gz\n",
      "Extracting MNIST_DATA/t10k-labels-idx1-ubyte.gz\n",
      "WARNING:tensorflow:From /home/z/.conda/envs/tf1/lib/python3.5/site-packages/tensorflow/contrib/learn/python/learn/datasets/mnist.py:290: DataSet.__init__ (from tensorflow.contrib.learn.python.learn.datasets.mnist) is deprecated and will be removed in a future version.\n",
      "Instructions for updating:\n",
      "Please use alternatives such as official/mnist/dataset.py from tensorflow/models.\n"
     ]
    }
   ],
   "source": [
    "# 载入数据\n",
    "mnist = input_data.read_data_sets('MNIST_DATA',one_hot=True)"
   ]
  },
  {
   "cell_type": "code",
   "execution_count": 3,
   "metadata": {},
   "outputs": [],
   "source": [
    "# tf.train.GradientDescentOptimizer\n",
    "# tf.train.AdadeltaOptimizer\n",
    "# tf.train.AdagradOptimizer\n",
    "# tf.train.AdagradDAOptimizer\n",
    "# tf.train.AdamOptimizer\n",
    "# tf.train.MomentumOptimizer\n",
    "# tf.train.FtrlOptimizer\n",
    "# tf.train.ProximalGradientDescentOptimizer\n",
    "# tf.train.ProximalAdagradOptimizer\n",
    "# tf.train.RMSPropOptimizer"
   ]
  },
  {
   "cell_type": "code",
   "execution_count": 10,
   "metadata": {},
   "outputs": [
    {
     "name": "stdout",
     "output_type": "stream",
     "text": [
      "ilter：0，Test Accuracy:0.8209\n",
      "ilter：1，Test Accuracy:0.833\n",
      "ilter：2，Test Accuracy:0.8437\n",
      "ilter：3，Test Accuracy:0.848\n",
      "ilter：4，Test Accuracy:0.9255\n",
      "ilter：5，Test Accuracy:0.9371\n",
      "ilter：6，Test Accuracy:0.9434\n",
      "ilter：7，Test Accuracy:0.9468\n",
      "ilter：8，Test Accuracy:0.9499\n",
      "ilter：9，Test Accuracy:0.9535\n",
      "ilter：10，Test Accuracy:0.955\n",
      "ilter：11，Test Accuracy:0.9566\n",
      "ilter：12，Test Accuracy:0.9595\n",
      "ilter：13，Test Accuracy:0.9609\n",
      "ilter：14，Test Accuracy:0.9615\n",
      "ilter：15，Test Accuracy:0.9622\n",
      "ilter：16，Test Accuracy:0.9636\n",
      "ilter：17，Test Accuracy:0.9656\n",
      "ilter：18，Test Accuracy:0.9629\n",
      "ilter：19，Test Accuracy:0.9667\n",
      "ilter：20，Test Accuracy:0.9677\n"
     ]
    }
   ],
   "source": [
    "batch_size = 100\n",
    "n_batch = mnist.train.num_examples // batch_size\n",
    "x = tf.placeholder(tf.float32, [None, 784])\n",
    "y = tf.placeholder(tf.float32, [None, 10])\n",
    "keep_prob = tf.placeholder(tf.float32)\n",
    "\n",
    "# 输入层\n",
    "W1 = tf.Variable(tf.truncated_normal([784, 100],stddev=0.1))\n",
    "b1 = tf.Variable(tf.zeros([100])+0.1)\n",
    "L1 = tf.nn.relu(tf.matmul(x, W1) + b1)\n",
    "L1_drop = tf.nn.dropout(L1, keep_prob)\n",
    "\n",
    "# 隐藏层 100个神经元\n",
    "W2 = tf.Variable(tf.truncated_normal([100, 100],stddev=0.1))\n",
    "b2 = tf.Variable(tf.zeros([100])+0.1)\n",
    "L2 = tf.nn.relu(tf.matmul(L1, W2) + b2)\n",
    "L2_drop = tf.nn.dropout(L2, keep_prob)\n",
    "\n",
    "# 输出层\n",
    "W3 = tf.Variable(tf.truncated_normal([100, 10],stddev=0.1))\n",
    "b3 = tf.Variable(tf.zeros([10])+0.1)\n",
    "prediction = tf.nn.softmax(tf.matmul(L2_drop, W3) + b3)\n",
    "\n",
    "# 交叉熵计算损失，梯度下降优化\n",
    "loss = tf.reduce_mean(tf.nn.softmax_cross_entropy_with_logits_v2(labels=y, logits=prediction))\n",
    "# 优化器\n",
    "optimizer = tf.train.GradientDescentOptimizer(0.2)\n",
    "# optimizer = tf.train.AdamOptimizer(0.01)\n",
    "\n",
    "train_step = optimizer.minimize(loss)\n",
    "\n",
    "# prediction_2 = tf.nn.softmax(prediction)\n",
    "correct_prediction = tf.equal(tf.math.argmax(y, 1), tf.math.argmax(prediction, 1))\n",
    "\n",
    "# 准确率计算\n",
    "accuracy = tf.reduce_mean(tf.cast(correct_prediction, tf.float32))\n",
    "\n",
    "init = tf.global_variables_initializer()\n",
    "with tf.Session() as sess:\n",
    "    sess.run(init)\n",
    "    for epoch in range(21):\n",
    "        for batch in range(n_batch):\n",
    "            batch_xs, batch_ys = mnist.train.next_batch(batch_size)\n",
    "            sess.run(train_step, feed_dict={x: batch_xs, y: batch_ys, keep_prob:0.8})\n",
    "        accur = sess.run(accuracy, feed_dict={x: mnist.test.images, y: mnist.test.labels, keep_prob:0.9})\n",
    "        print('ilter：' + str(epoch) + '，Test Accuracy:' + str(accur))"
   ]
  },
  {
   "cell_type": "code",
   "execution_count": null,
   "metadata": {},
   "outputs": [],
   "source": []
  }
 ],
 "metadata": {
  "kernelspec": {
   "display_name": "tf1",
   "language": "python",
   "name": "tf1"
  },
  "language_info": {
   "codemirror_mode": {
    "name": "ipython",
    "version": 3
   },
   "file_extension": ".py",
   "mimetype": "text/x-python",
   "name": "python",
   "nbconvert_exporter": "python",
   "pygments_lexer": "ipython3",
   "version": "3.5.5"
  },
  "toc": {
   "base_numbering": 1,
   "nav_menu": {},
   "number_sections": true,
   "sideBar": true,
   "skip_h1_title": false,
   "title_cell": "Table of Contents",
   "title_sidebar": "Contents",
   "toc_cell": false,
   "toc_position": {},
   "toc_section_display": true,
   "toc_window_display": false
  }
 },
 "nbformat": 4,
 "nbformat_minor": 2
}
