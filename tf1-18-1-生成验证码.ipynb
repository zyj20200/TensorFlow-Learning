{
 "cells": [
  {
   "cell_type": "code",
   "execution_count": 31,
   "metadata": {},
   "outputs": [],
   "source": [
    "import random\n",
    "import os\n",
    "import sys\n",
    "import numpy as np\n",
    "from captcha.image import ImageCaptcha"
   ]
  },
  {
   "cell_type": "code",
   "execution_count": 39,
   "metadata": {},
   "outputs": [
    {
     "name": "stdout",
     "output_type": "stream",
     "text": [
      ">> Creating image 10000/10000\n"
     ]
    }
   ],
   "source": [
    "number = ['0','1','2','3','4','5','6','7','8','9']\n",
    "# alphabet = ['a','b','c','d','e','f','g','h','i','j','k','l','m','n','o','p','q','r','s','t','u','v','w','x','y','z']\n",
    "# ALPHABET = ['A','B','C','D','E','F','G','H','I','J','K','L','M','N','O','P','Q','R','S','T','U','V','W','X','Y','Z']\n",
    "\n",
    "# 从列表中随机抽取4个数字\n",
    "def random_captcha_text(charset=number, size=4):\n",
    "    captcha_text = []\n",
    "    for _ in range(size):\n",
    "        tep = random.choice(charset)\n",
    "        captcha_text.append(tep)\n",
    "    return captcha_text\n",
    "\n",
    " \n",
    "def gen_captcha_text_and_image():\n",
    "    # 默认 width=160, height=60\n",
    "    image = ImageCaptcha()\n",
    "    captcha_text = random_captcha_text()\n",
    "    captcha_text = ''.join(captcha_text)\n",
    "    captcha = image.generate(captcha_text)\n",
    "    image.write(captcha_text, 'captcha/images/' + captcha_text + '.jpg')  # 写到文件\n",
    "    \n",
    "    \n",
    "num = 10000\n",
    "if __name__ ==\"__main__\":\n",
    "    for i in range(num):\n",
    "        # 生成验证码\n",
    "        gen_captcha_text_and_image()\n",
    "        \n",
    "        sys.stdout.write('\\r>> Creating image %d/%d' % (i+1, num))\n",
    "        sys.stdout.flush()\n",
    "    sys.stdout.write('\\n')\n",
    "    sys.stdout.flush()"
   ]
  },
  {
   "cell_type": "code",
   "execution_count": 48,
   "metadata": {},
   "outputs": [
    {
     "name": "stdout",
     "output_type": "stream",
     "text": [
      "10/10"
     ]
    }
   ],
   "source": [
    "import time\n",
    "\n",
    "for i in range(10):\n",
    "    sys.stdout.write('\\r' + str(i+1) + '/' + str(10))\n",
    "    sys.stdout.flush()\n",
    "    time.sleep(0.5)"
   ]
  },
  {
   "cell_type": "code",
   "execution_count": null,
   "metadata": {},
   "outputs": [],
   "source": []
  }
 ],
 "metadata": {
  "kernelspec": {
   "display_name": "tf1",
   "language": "python",
   "name": "tf1"
  },
  "language_info": {
   "codemirror_mode": {
    "name": "ipython",
    "version": 3
   },
   "file_extension": ".py",
   "mimetype": "text/x-python",
   "name": "python",
   "nbconvert_exporter": "python",
   "pygments_lexer": "ipython3",
   "version": "3.5.5"
  }
 },
 "nbformat": 4,
 "nbformat_minor": 2
}
